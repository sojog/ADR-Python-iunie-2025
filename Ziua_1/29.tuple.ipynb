{
 "cells": [
  {
   "cell_type": "code",
   "execution_count": 1,
   "id": "3ea72ce4",
   "metadata": {},
   "outputs": [
    {
     "data": {
      "text/plain": [
       "tuple"
      ]
     },
     "execution_count": 1,
     "metadata": {},
     "output_type": "execute_result"
    }
   ],
   "source": [
    "tuplu = (1, 421, 321, 321, 312, 312, 312)\n",
    "type(tuplu)\n"
   ]
  },
  {
   "cell_type": "code",
   "execution_count": 2,
   "id": "d2af26c3",
   "metadata": {},
   "outputs": [
    {
     "data": {
      "text/plain": [
       "312"
      ]
     },
     "execution_count": 2,
     "metadata": {},
     "output_type": "execute_result"
    }
   ],
   "source": [
    "tuplu = (1, 421, 321, 321, 312, 312, 312)\n",
    "tuplu[-1]"
   ]
  },
  {
   "cell_type": "code",
   "execution_count": 3,
   "id": "06b92cb0",
   "metadata": {},
   "outputs": [
    {
     "data": {
      "text/plain": [
       "1"
      ]
     },
     "execution_count": 3,
     "metadata": {},
     "output_type": "execute_result"
    }
   ],
   "source": [
    "tuplu = (1, 421, 321, 321, 312, 312, 312)\n",
    "tuplu[0]"
   ]
  },
  {
   "cell_type": "markdown",
   "id": "0cdef7d0",
   "metadata": {},
   "source": [
    "# Tuple - este imutabil  (Nu suporta adaugare, editare, stergere)"
   ]
  },
  {
   "cell_type": "code",
   "execution_count": 8,
   "id": "a6116fe1",
   "metadata": {},
   "outputs": [],
   "source": [
    "tuplu = (1, 421, 321, 321, 312, 312, 312)\n",
    "# tuplu.insert()"
   ]
  },
  {
   "cell_type": "code",
   "execution_count": 10,
   "id": "55390d8e",
   "metadata": {},
   "outputs": [],
   "source": [
    "tuplu = (1, 321, 312)"
   ]
  },
  {
   "cell_type": "code",
   "execution_count": 11,
   "id": "835f7b72",
   "metadata": {},
   "outputs": [
    {
     "data": {
      "text/plain": [
       "[1, 312, 321]"
      ]
     },
     "execution_count": 11,
     "metadata": {},
     "output_type": "execute_result"
    }
   ],
   "source": [
    "sorted(tuplu)"
   ]
  },
  {
   "cell_type": "code",
   "execution_count": 12,
   "id": "4a8813fd",
   "metadata": {},
   "outputs": [
    {
     "data": {
      "text/plain": [
       "(1, 321, 312)"
      ]
     },
     "execution_count": 12,
     "metadata": {},
     "output_type": "execute_result"
    }
   ],
   "source": [
    "tuplu"
   ]
  },
  {
   "cell_type": "code",
   "execution_count": 13,
   "id": "9d959b3e",
   "metadata": {},
   "outputs": [
    {
     "name": "stdout",
     "output_type": "stream",
     "text": [
      "(0, 1)\n",
      "(1, 421)\n",
      "(2, 321)\n",
      "(3, 321)\n",
      "(4, 312)\n",
      "(5, 312)\n",
      "(6, 312)\n"
     ]
    }
   ],
   "source": [
    "for i in enumerate((1, 421, 321, 321, 312, 312, 312)):\n",
    "    print(i)"
   ]
  },
  {
   "cell_type": "code",
   "execution_count": null,
   "id": "57825b25",
   "metadata": {},
   "outputs": [],
   "source": []
  }
 ],
 "metadata": {
  "kernelspec": {
   "display_name": "Python 3",
   "language": "python",
   "name": "python3"
  },
  "language_info": {
   "codemirror_mode": {
    "name": "ipython",
    "version": 3
   },
   "file_extension": ".py",
   "mimetype": "text/x-python",
   "name": "python",
   "nbconvert_exporter": "python",
   "pygments_lexer": "ipython3",
   "version": "3.13.3"
  }
 },
 "nbformat": 4,
 "nbformat_minor": 5
}
