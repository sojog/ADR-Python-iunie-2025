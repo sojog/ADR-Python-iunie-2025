{
 "cells": [
  {
   "cell_type": "code",
   "execution_count": 1,
   "id": "a498fd64",
   "metadata": {},
   "outputs": [],
   "source": [
    "import math as matematica"
   ]
  },
  {
   "cell_type": "code",
   "execution_count": 2,
   "id": "aa87c5df",
   "metadata": {},
   "outputs": [
    {
     "data": {
      "text/plain": [
       "3.141592653589793"
      ]
     },
     "execution_count": 2,
     "metadata": {},
     "output_type": "execute_result"
    }
   ],
   "source": [
    "matematica.pi"
   ]
  },
  {
   "cell_type": "code",
   "execution_count": 3,
   "id": "c60a5f8b",
   "metadata": {},
   "outputs": [
    {
     "data": {
      "text/plain": [
       "4"
      ]
     },
     "execution_count": 3,
     "metadata": {},
     "output_type": "execute_result"
    }
   ],
   "source": [
    "matematica.ceil(matematica.pi)"
   ]
  },
  {
   "cell_type": "code",
   "execution_count": 5,
   "id": "4873043a",
   "metadata": {},
   "outputs": [
    {
     "data": {
      "text/plain": [
       "3"
      ]
     },
     "execution_count": 5,
     "metadata": {},
     "output_type": "execute_result"
    }
   ],
   "source": [
    "matematica.floor(matematica.pi)"
   ]
  },
  {
   "cell_type": "code",
   "execution_count": 6,
   "id": "49f474f7",
   "metadata": {},
   "outputs": [
    {
     "data": {
      "text/plain": [
       "3"
      ]
     },
     "execution_count": 6,
     "metadata": {},
     "output_type": "execute_result"
    }
   ],
   "source": [
    "int(matematica.pi)"
   ]
  },
  {
   "cell_type": "code",
   "execution_count": 9,
   "id": "90215834",
   "metadata": {},
   "outputs": [
    {
     "name": "stdout",
     "output_type": "stream",
     "text": [
      "3.141592653589793\n"
     ]
    }
   ],
   "source": [
    "print(matematica.pi)"
   ]
  },
  {
   "cell_type": "code",
   "execution_count": 10,
   "id": "6d82580b",
   "metadata": {},
   "outputs": [
    {
     "data": {
      "text/plain": [
       "'Numarul PI este: 3.141592653589793 '"
      ]
     },
     "execution_count": 10,
     "metadata": {},
     "output_type": "execute_result"
    }
   ],
   "source": [
    "\n",
    "f\"Numarul PI este: {matematica.pi} \"\n"
   ]
  },
  {
   "cell_type": "code",
   "execution_count": 11,
   "id": "9a077e97",
   "metadata": {},
   "outputs": [
    {
     "data": {
      "text/plain": [
       "'Numarul PI este: {matematica.pi} '"
      ]
     },
     "execution_count": 11,
     "metadata": {},
     "output_type": "execute_result"
    }
   ],
   "source": [
    "\"Numarul PI este: {matematica.pi} \""
   ]
  },
  {
   "cell_type": "code",
   "execution_count": 14,
   "id": "e0e82b82",
   "metadata": {},
   "outputs": [
    {
     "data": {
      "text/plain": [
       "'Numarul PI este: 3.14 '"
      ]
     },
     "execution_count": 14,
     "metadata": {},
     "output_type": "execute_result"
    }
   ],
   "source": [
    "f\"Numarul PI este: {matematica.pi:.2f} \""
   ]
  },
  {
   "cell_type": "code",
   "execution_count": 15,
   "id": "8b252dcf",
   "metadata": {},
   "outputs": [
    {
     "data": {
      "text/plain": [
       "'Numarul PI este: 3.1416 '"
      ]
     },
     "execution_count": 15,
     "metadata": {},
     "output_type": "execute_result"
    }
   ],
   "source": [
    "f\"Numarul PI este: {matematica.pi:.4f} \""
   ]
  },
  {
   "cell_type": "code",
   "execution_count": 16,
   "id": "0eb3a629",
   "metadata": {},
   "outputs": [
    {
     "data": {
      "text/plain": [
       "3.141592653589793"
      ]
     },
     "execution_count": 16,
     "metadata": {},
     "output_type": "execute_result"
    }
   ],
   "source": [
    "matematica.pi"
   ]
  },
  {
   "cell_type": "code",
   "execution_count": 17,
   "id": "09d2e968",
   "metadata": {},
   "outputs": [
    {
     "data": {
      "text/plain": [
       "3.142"
      ]
     },
     "execution_count": 17,
     "metadata": {},
     "output_type": "execute_result"
    }
   ],
   "source": [
    "round(matematica.pi, 3)"
   ]
  },
  {
   "cell_type": "code",
   "execution_count": 18,
   "id": "ddc4ce06",
   "metadata": {},
   "outputs": [],
   "source": [
    "pi_cu_4_zecimale = round(matematica.pi, 4)"
   ]
  },
  {
   "cell_type": "code",
   "execution_count": 19,
   "id": "18ab22d3",
   "metadata": {},
   "outputs": [
    {
     "data": {
      "text/plain": [
       "3.1416"
      ]
     },
     "execution_count": 19,
     "metadata": {},
     "output_type": "execute_result"
    }
   ],
   "source": [
    "pi_cu_4_zecimale"
   ]
  }
 ],
 "metadata": {
  "kernelspec": {
   "display_name": "Python 3",
   "language": "python",
   "name": "python3"
  },
  "language_info": {
   "codemirror_mode": {
    "name": "ipython",
    "version": 3
   },
   "file_extension": ".py",
   "mimetype": "text/x-python",
   "name": "python",
   "nbconvert_exporter": "python",
   "pygments_lexer": "ipython3",
   "version": "3.13.3"
  }
 },
 "nbformat": 4,
 "nbformat_minor": 5
}
