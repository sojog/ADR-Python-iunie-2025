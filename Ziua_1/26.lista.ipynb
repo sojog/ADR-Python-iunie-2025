{
 "cells": [
  {
   "cell_type": "code",
   "execution_count": 1,
   "id": "04f4d330",
   "metadata": {},
   "outputs": [
    {
     "name": "stdout",
     "output_type": "stream",
     "text": [
      "[12, 31, 51, 326, 43] <class 'list'>\n"
     ]
    }
   ],
   "source": [
    "lista =  [12, 31, 51, 326, 43]\n",
    "print(lista, type(lista))"
   ]
  },
  {
   "cell_type": "code",
   "execution_count": 2,
   "id": "1186b5b9",
   "metadata": {},
   "outputs": [
    {
     "data": {
      "text/plain": [
       "12"
      ]
     },
     "execution_count": 2,
     "metadata": {},
     "output_type": "execute_result"
    }
   ],
   "source": [
    "lista =  [12, 31, 51, 326, 43]\n",
    "lista[0]\n"
   ]
  },
  {
   "cell_type": "code",
   "execution_count": 3,
   "id": "ceb57920",
   "metadata": {},
   "outputs": [
    {
     "data": {
      "text/plain": [
       "31"
      ]
     },
     "execution_count": 3,
     "metadata": {},
     "output_type": "execute_result"
    }
   ],
   "source": [
    "lista =  [12, 31, 51, 326, 43]\n",
    "lista[1]"
   ]
  },
  {
   "cell_type": "code",
   "execution_count": 4,
   "id": "7b10f591",
   "metadata": {},
   "outputs": [
    {
     "data": {
      "text/plain": [
       "43"
      ]
     },
     "execution_count": 4,
     "metadata": {},
     "output_type": "execute_result"
    }
   ],
   "source": [
    "lista =  [12, 31, 51, 326, 43]\n",
    "lista[4]"
   ]
  },
  {
   "cell_type": "code",
   "execution_count": 6,
   "id": "5eea9aad",
   "metadata": {},
   "outputs": [
    {
     "data": {
      "text/plain": [
       "210"
      ]
     },
     "execution_count": 6,
     "metadata": {},
     "output_type": "execute_result"
    }
   ],
   "source": [
    "lista =  [12, 31, 51, 326, 43, 210]\n",
    "lista[5]"
   ]
  },
  {
   "cell_type": "code",
   "execution_count": 7,
   "id": "bcac204d",
   "metadata": {},
   "outputs": [
    {
     "data": {
      "text/plain": [
       "6"
      ]
     },
     "execution_count": 7,
     "metadata": {},
     "output_type": "execute_result"
    }
   ],
   "source": [
    "lista =  [12, 31, 51, 326, 43, 210]\n",
    "len(lista)"
   ]
  },
  {
   "cell_type": "code",
   "execution_count": 8,
   "id": "5d0e41bb",
   "metadata": {},
   "outputs": [
    {
     "data": {
      "text/plain": [
       "210"
      ]
     },
     "execution_count": 8,
     "metadata": {},
     "output_type": "execute_result"
    }
   ],
   "source": [
    "lista =  [12, 31, 51, 326, 43, 210]\n",
    "lista[len(lista) - 1]"
   ]
  },
  {
   "cell_type": "code",
   "execution_count": 9,
   "id": "27fdba8f",
   "metadata": {},
   "outputs": [
    {
     "data": {
      "text/plain": [
       "210"
      ]
     },
     "execution_count": 9,
     "metadata": {},
     "output_type": "execute_result"
    }
   ],
   "source": [
    "lista =  [12, 31, 51, 326, 43, 210]\n",
    "lista[ - 1]"
   ]
  },
  {
   "cell_type": "code",
   "execution_count": 10,
   "id": "c5cd1c24",
   "metadata": {},
   "outputs": [
    {
     "data": {
      "text/plain": [
       "43"
      ]
     },
     "execution_count": 10,
     "metadata": {},
     "output_type": "execute_result"
    }
   ],
   "source": [
    "lista =  [12, 31, 51, 326, 43, 210]\n",
    "lista[ - 2]"
   ]
  },
  {
   "cell_type": "code",
   "execution_count": 11,
   "id": "1358b0ca",
   "metadata": {},
   "outputs": [
    {
     "data": {
      "text/plain": [
       "326"
      ]
     },
     "execution_count": 11,
     "metadata": {},
     "output_type": "execute_result"
    }
   ],
   "source": [
    "lista =  [12, 31, 51, 326, 43, 210]\n",
    "lista[ - 3]"
   ]
  },
  {
   "cell_type": "code",
   "execution_count": 12,
   "id": "b6cc4e0f",
   "metadata": {},
   "outputs": [
    {
     "data": {
      "text/plain": [
       "12"
      ]
     },
     "execution_count": 12,
     "metadata": {},
     "output_type": "execute_result"
    }
   ],
   "source": [
    "lista =  [12, 31, 51, 326, 43, 210]\n",
    "lista[ - len(lista)]"
   ]
  },
  {
   "cell_type": "code",
   "execution_count": 13,
   "id": "cd764cfa",
   "metadata": {},
   "outputs": [
    {
     "data": {
      "text/plain": [
       "12"
      ]
     },
     "execution_count": 13,
     "metadata": {},
     "output_type": "execute_result"
    }
   ],
   "source": [
    "lista =  [12, 31, 51, 326, 43, 210]\n",
    "lista[ - 6]"
   ]
  },
  {
   "cell_type": "code",
   "execution_count": 15,
   "id": "3f9239e3",
   "metadata": {},
   "outputs": [
    {
     "name": "stdout",
     "output_type": "stream",
     "text": [
      "12\n",
      "31\n",
      "51\n"
     ]
    }
   ],
   "source": [
    "lista =  [12, 31, 51]\n",
    "\n",
    "for i in lista:\n",
    "    print(i)\n",
    "\n"
   ]
  },
  {
   "cell_type": "code",
   "execution_count": null,
   "id": "95162a23",
   "metadata": {},
   "outputs": [
    {
     "name": "stdout",
     "output_type": "stream",
     "text": [
      "12\n"
     ]
    }
   ],
   "source": [
    "lista =  [12, 31, 51]\n",
    "\n",
    "for i in lista:\n",
    "    if i % 2 == 0:\n",
    "        print(i)"
   ]
  },
  {
   "cell_type": "code",
   "execution_count": 17,
   "id": "214202e8",
   "metadata": {},
   "outputs": [
    {
     "name": "stdout",
     "output_type": "stream",
     "text": [
      "par: 12\n",
      "impar 31\n",
      "impar 51\n"
     ]
    }
   ],
   "source": [
    "lista =  [12, 31, 51]\n",
    "\n",
    "for i in lista:\n",
    "    if i % 2 == 0:\n",
    "        print(\"par:\", i)\n",
    "    else:\n",
    "        print(\"impar\", i)"
   ]
  },
  {
   "cell_type": "code",
   "execution_count": 18,
   "id": "aeeb2579",
   "metadata": {},
   "outputs": [
    {
     "name": "stdout",
     "output_type": "stream",
     "text": [
      "12\n",
      "31\n",
      "51\n"
     ]
    }
   ],
   "source": [
    "lista =  [12, 31, 51]\n",
    "\n",
    "for element in lista:\n",
    "    print(element)"
   ]
  },
  {
   "cell_type": "code",
   "execution_count": 21,
   "id": "45667127",
   "metadata": {},
   "outputs": [
    {
     "data": {
      "text/plain": [
       "[12, 31, 51, 30]"
      ]
     },
     "execution_count": 21,
     "metadata": {},
     "output_type": "execute_result"
    }
   ],
   "source": [
    "lista =  [12, 31, 51]\n",
    "lista.append(30)\n",
    "lista"
   ]
  },
  {
   "cell_type": "markdown",
   "id": "a4299310",
   "metadata": {},
   "source": [
    "# Adauga la sfarsitul Listei"
   ]
  },
  {
   "cell_type": "code",
   "execution_count": 22,
   "id": "760701a9",
   "metadata": {},
   "outputs": [
    {
     "data": {
      "text/plain": [
       "[12, 31, 51, 30, 330, 4130, 5130]"
      ]
     },
     "execution_count": 22,
     "metadata": {},
     "output_type": "execute_result"
    }
   ],
   "source": [
    "lista =  [12, 31, 51]\n",
    "lista.append(30)\n",
    "lista.append(330)\n",
    "lista.append(4130)\n",
    "lista.append(5130)\n",
    "lista"
   ]
  },
  {
   "cell_type": "markdown",
   "id": "0d06a6a3",
   "metadata": {},
   "source": [
    "# pop() - scoate ultimul din lista"
   ]
  },
  {
   "cell_type": "code",
   "execution_count": 23,
   "id": "5aaff9f4",
   "metadata": {},
   "outputs": [
    {
     "data": {
      "text/plain": [
       "[12, 31]"
      ]
     },
     "execution_count": 23,
     "metadata": {},
     "output_type": "execute_result"
    }
   ],
   "source": [
    "lista =  [12, 31, 51]\n",
    "lista.pop()\n",
    "lista"
   ]
  },
  {
   "cell_type": "code",
   "execution_count": 25,
   "id": "58ca80de",
   "metadata": {},
   "outputs": [
    {
     "data": {
      "text/plain": [
       "[12, 31, 51, 141, 51, 5, 32, 5, 23]"
      ]
     },
     "execution_count": 25,
     "metadata": {},
     "output_type": "execute_result"
    }
   ],
   "source": [
    "lista =  [12, 31, 51, 141, 51, 5, 32, 5, 23, 523 ]\n",
    "lista.pop()\n",
    "lista"
   ]
  },
  {
   "cell_type": "code",
   "execution_count": 26,
   "id": "988e8af6",
   "metadata": {},
   "outputs": [
    {
     "data": {
      "text/plain": [
       "[12, 31, 51, 141, 51, 5, 32]"
      ]
     },
     "execution_count": 26,
     "metadata": {},
     "output_type": "execute_result"
    }
   ],
   "source": [
    "lista =  [12, 31, 51, 141, 51, 5, 32, 5, 23, 523 ]\n",
    "lista.pop()\n",
    "lista.pop()\n",
    "lista.pop()\n",
    "lista"
   ]
  },
  {
   "cell_type": "markdown",
   "id": "618f3960",
   "metadata": {},
   "source": [
    "# Insert -> index + element"
   ]
  },
  {
   "cell_type": "code",
   "execution_count": 29,
   "id": "c66f5425",
   "metadata": {},
   "outputs": [
    {
     "data": {
      "text/plain": [
       "[12, 999, 31, 51]"
      ]
     },
     "execution_count": 29,
     "metadata": {},
     "output_type": "execute_result"
    }
   ],
   "source": [
    "lista =  [12, 31, 51]\n",
    "lista.insert(1, 999)\n",
    "lista"
   ]
  },
  {
   "cell_type": "code",
   "execution_count": 30,
   "id": "a4f6dd0a",
   "metadata": {},
   "outputs": [
    {
     "data": {
      "text/plain": [
       "[12, 31, 999, 51]"
      ]
     },
     "execution_count": 30,
     "metadata": {},
     "output_type": "execute_result"
    }
   ],
   "source": [
    "lista =  [12, 31, 51]\n",
    "lista.insert(2, 999)\n",
    "lista"
   ]
  },
  {
   "cell_type": "code",
   "execution_count": 31,
   "id": "049f6b43",
   "metadata": {},
   "outputs": [
    {
     "data": {
      "text/plain": [
       "[12, 31, 51, 999]"
      ]
     },
     "execution_count": 31,
     "metadata": {},
     "output_type": "execute_result"
    }
   ],
   "source": [
    "lista =  [12, 31, 51]\n",
    "lista.insert(12, 999)\n",
    "lista"
   ]
  },
  {
   "cell_type": "code",
   "execution_count": 32,
   "id": "58f3a3f8",
   "metadata": {},
   "outputs": [
    {
     "data": {
      "text/plain": [
       "512"
      ]
     },
     "execution_count": 32,
     "metadata": {},
     "output_type": "execute_result"
    }
   ],
   "source": [
    "lista =  [12, 31, 51, 132, 512]\n",
    "lista.pop()"
   ]
  },
  {
   "cell_type": "code",
   "execution_count": 34,
   "id": "4859ba54",
   "metadata": {},
   "outputs": [
    {
     "data": {
      "text/plain": [
       "[31, 51, 132, 512]"
      ]
     },
     "execution_count": 34,
     "metadata": {},
     "output_type": "execute_result"
    }
   ],
   "source": [
    "lista =  [12, 31, 51, 132, 512]\n",
    "lista.pop(0)\n",
    "lista"
   ]
  },
  {
   "cell_type": "code",
   "execution_count": 35,
   "id": "00b37ce8",
   "metadata": {},
   "outputs": [
    {
     "data": {
      "text/plain": [
       "[12, 31, 51, 512]"
      ]
     },
     "execution_count": 35,
     "metadata": {},
     "output_type": "execute_result"
    }
   ],
   "source": [
    "lista =  [12, 31, 51, 132, 512]\n",
    "lista.pop(3)\n",
    "lista"
   ]
  },
  {
   "cell_type": "code",
   "execution_count": 36,
   "id": "8824be98",
   "metadata": {},
   "outputs": [
    {
     "data": {
      "text/plain": [
       "[12, 31, 51, 512]"
      ]
     },
     "execution_count": 36,
     "metadata": {},
     "output_type": "execute_result"
    }
   ],
   "source": [
    "lista =  [12, 31, 51, 132, 512]\n",
    "lista.pop(-2)\n",
    "lista"
   ]
  },
  {
   "cell_type": "code",
   "execution_count": 37,
   "id": "d932b2fd",
   "metadata": {},
   "outputs": [
    {
     "data": {
      "text/plain": [
       "5"
      ]
     },
     "execution_count": 37,
     "metadata": {},
     "output_type": "execute_result"
    }
   ],
   "source": [
    "lista =  [12, 31, 51, 132, 512, 412, 532, 523, 523, 423423, 423, 62, 423, 423, 4, 23, 523,4, 23]\n",
    "lista.index(412)\n"
   ]
  },
  {
   "cell_type": "code",
   "execution_count": 39,
   "id": "77543fec",
   "metadata": {},
   "outputs": [
    {
     "data": {
      "text/plain": [
       "0"
      ]
     },
     "execution_count": 39,
     "metadata": {},
     "output_type": "execute_result"
    }
   ],
   "source": [
    "lista =  [523, 12, 31, 51, 132, 512, 412, 532, 523, 423423, 423, 62, 423, 423, 4, 23, 523,4, 23]\n",
    "lista.index(523)\n"
   ]
  },
  {
   "cell_type": "code",
   "execution_count": 40,
   "id": "26eb5e79",
   "metadata": {},
   "outputs": [
    {
     "data": {
      "text/plain": [
       "range(0, 10)"
      ]
     },
     "execution_count": 40,
     "metadata": {},
     "output_type": "execute_result"
    }
   ],
   "source": [
    "range(10)"
   ]
  },
  {
   "cell_type": "code",
   "execution_count": 42,
   "id": "48216318",
   "metadata": {},
   "outputs": [
    {
     "data": {
      "text/plain": [
       "[0, 1, 2, 3, 4, 5, 6, 7, 8, 9]"
      ]
     },
     "execution_count": 42,
     "metadata": {},
     "output_type": "execute_result"
    }
   ],
   "source": [
    "list(range(10))"
   ]
  },
  {
   "cell_type": "code",
   "execution_count": 44,
   "id": "1a136078",
   "metadata": {},
   "outputs": [
    {
     "data": {
      "text/plain": [
       "[31, 412, 'Salutare', True, ['Hello', 'Vineri', 230]]"
      ]
     },
     "execution_count": 44,
     "metadata": {},
     "output_type": "execute_result"
    }
   ],
   "source": [
    "lista = [31, 412, \"Salutare\", True, [\"Hello\", \"Vineri\", 230]]\n",
    "lista"
   ]
  },
  {
   "cell_type": "code",
   "execution_count": 45,
   "id": "dc1a7e6c",
   "metadata": {},
   "outputs": [
    {
     "data": {
      "text/plain": [
       "['Hello', 'Vineri', 230]"
      ]
     },
     "execution_count": 45,
     "metadata": {},
     "output_type": "execute_result"
    }
   ],
   "source": [
    "lista = [31, 412, \"Salutare\", True, [\"Hello\", \"Vineri\", 230]]\n",
    "lista[-1]"
   ]
  },
  {
   "cell_type": "code",
   "execution_count": 46,
   "id": "f28f98a5",
   "metadata": {},
   "outputs": [
    {
     "data": {
      "text/plain": [
       "'Vineri'"
      ]
     },
     "execution_count": 46,
     "metadata": {},
     "output_type": "execute_result"
    }
   ],
   "source": [
    "lista = [31, 412, \"Salutare\", True, [\"Hello\", \"Vineri\", 230]]\n",
    "lista[-1][1]"
   ]
  },
  {
   "cell_type": "code",
   "execution_count": null,
   "id": "6e728bee",
   "metadata": {},
   "outputs": [],
   "source": []
  }
 ],
 "metadata": {
  "kernelspec": {
   "display_name": "Python 3",
   "language": "python",
   "name": "python3"
  },
  "language_info": {
   "codemirror_mode": {
    "name": "ipython",
    "version": 3
   },
   "file_extension": ".py",
   "mimetype": "text/x-python",
   "name": "python",
   "nbconvert_exporter": "python",
   "pygments_lexer": "ipython3",
   "version": "3.13.3"
  }
 },
 "nbformat": 4,
 "nbformat_minor": 5
}
