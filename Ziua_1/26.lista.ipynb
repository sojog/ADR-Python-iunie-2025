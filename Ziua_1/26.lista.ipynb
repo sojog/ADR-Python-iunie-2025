{
 "cells": [
  {
   "cell_type": "code",
   "execution_count": 1,
   "id": "04f4d330",
   "metadata": {},
   "outputs": [
    {
     "name": "stdout",
     "output_type": "stream",
     "text": [
      "[12, 31, 51, 326, 43] <class 'list'>\n"
     ]
    }
   ],
   "source": [
    "lista =  [12, 31, 51, 326, 43]\n",
    "print(lista, type(lista))"
   ]
  },
  {
   "cell_type": "code",
   "execution_count": 2,
   "id": "1186b5b9",
   "metadata": {},
   "outputs": [
    {
     "data": {
      "text/plain": [
       "12"
      ]
     },
     "execution_count": 2,
     "metadata": {},
     "output_type": "execute_result"
    }
   ],
   "source": [
    "lista =  [12, 31, 51, 326, 43]\n",
    "lista[0]\n"
   ]
  },
  {
   "cell_type": "code",
   "execution_count": 3,
   "id": "ceb57920",
   "metadata": {},
   "outputs": [
    {
     "data": {
      "text/plain": [
       "31"
      ]
     },
     "execution_count": 3,
     "metadata": {},
     "output_type": "execute_result"
    }
   ],
   "source": [
    "lista =  [12, 31, 51, 326, 43]\n",
    "lista[1]"
   ]
  },
  {
   "cell_type": "code",
   "execution_count": 4,
   "id": "7b10f591",
   "metadata": {},
   "outputs": [
    {
     "data": {
      "text/plain": [
       "43"
      ]
     },
     "execution_count": 4,
     "metadata": {},
     "output_type": "execute_result"
    }
   ],
   "source": [
    "lista =  [12, 31, 51, 326, 43]\n",
    "lista[4]"
   ]
  },
  {
   "cell_type": "code",
   "execution_count": 6,
   "id": "5eea9aad",
   "metadata": {},
   "outputs": [
    {
     "data": {
      "text/plain": [
       "210"
      ]
     },
     "execution_count": 6,
     "metadata": {},
     "output_type": "execute_result"
    }
   ],
   "source": [
    "lista =  [12, 31, 51, 326, 43, 210]\n",
    "lista[5]"
   ]
  },
  {
   "cell_type": "code",
   "execution_count": 7,
   "id": "bcac204d",
   "metadata": {},
   "outputs": [
    {
     "data": {
      "text/plain": [
       "6"
      ]
     },
     "execution_count": 7,
     "metadata": {},
     "output_type": "execute_result"
    }
   ],
   "source": [
    "lista =  [12, 31, 51, 326, 43, 210]\n",
    "len(lista)"
   ]
  },
  {
   "cell_type": "code",
   "execution_count": 8,
   "id": "5d0e41bb",
   "metadata": {},
   "outputs": [
    {
     "data": {
      "text/plain": [
       "210"
      ]
     },
     "execution_count": 8,
     "metadata": {},
     "output_type": "execute_result"
    }
   ],
   "source": [
    "lista =  [12, 31, 51, 326, 43, 210]\n",
    "lista[len(lista) - 1]"
   ]
  },
  {
   "cell_type": "code",
   "execution_count": 9,
   "id": "27fdba8f",
   "metadata": {},
   "outputs": [
    {
     "data": {
      "text/plain": [
       "210"
      ]
     },
     "execution_count": 9,
     "metadata": {},
     "output_type": "execute_result"
    }
   ],
   "source": [
    "lista =  [12, 31, 51, 326, 43, 210]\n",
    "lista[ - 1]"
   ]
  },
  {
   "cell_type": "code",
   "execution_count": 10,
   "id": "c5cd1c24",
   "metadata": {},
   "outputs": [
    {
     "data": {
      "text/plain": [
       "43"
      ]
     },
     "execution_count": 10,
     "metadata": {},
     "output_type": "execute_result"
    }
   ],
   "source": [
    "lista =  [12, 31, 51, 326, 43, 210]\n",
    "lista[ - 2]"
   ]
  },
  {
   "cell_type": "code",
   "execution_count": 11,
   "id": "1358b0ca",
   "metadata": {},
   "outputs": [
    {
     "data": {
      "text/plain": [
       "326"
      ]
     },
     "execution_count": 11,
     "metadata": {},
     "output_type": "execute_result"
    }
   ],
   "source": [
    "lista =  [12, 31, 51, 326, 43, 210]\n",
    "lista[ - 3]"
   ]
  },
  {
   "cell_type": "code",
   "execution_count": 12,
   "id": "b6cc4e0f",
   "metadata": {},
   "outputs": [
    {
     "data": {
      "text/plain": [
       "12"
      ]
     },
     "execution_count": 12,
     "metadata": {},
     "output_type": "execute_result"
    }
   ],
   "source": [
    "lista =  [12, 31, 51, 326, 43, 210]\n",
    "lista[ - len(lista)]"
   ]
  },
  {
   "cell_type": "code",
   "execution_count": 13,
   "id": "cd764cfa",
   "metadata": {},
   "outputs": [
    {
     "data": {
      "text/plain": [
       "12"
      ]
     },
     "execution_count": 13,
     "metadata": {},
     "output_type": "execute_result"
    }
   ],
   "source": [
    "lista =  [12, 31, 51, 326, 43, 210]\n",
    "lista[ - 6]"
   ]
  },
  {
   "cell_type": "code",
   "execution_count": 15,
   "id": "3f9239e3",
   "metadata": {},
   "outputs": [
    {
     "name": "stdout",
     "output_type": "stream",
     "text": [
      "12\n",
      "31\n",
      "51\n"
     ]
    }
   ],
   "source": [
    "lista =  [12, 31, 51]\n",
    "\n",
    "for i in lista:\n",
    "    print(i)\n",
    "\n"
   ]
  },
  {
   "cell_type": "code",
   "execution_count": null,
   "id": "95162a23",
   "metadata": {},
   "outputs": [
    {
     "name": "stdout",
     "output_type": "stream",
     "text": [
      "12\n"
     ]
    }
   ],
   "source": [
    "lista =  [12, 31, 51]\n",
    "\n",
    "for i in lista:\n",
    "    if i % 2 == 0:\n",
    "        print(i)"
   ]
  },
  {
   "cell_type": "code",
   "execution_count": 17,
   "id": "214202e8",
   "metadata": {},
   "outputs": [
    {
     "name": "stdout",
     "output_type": "stream",
     "text": [
      "par: 12\n",
      "impar 31\n",
      "impar 51\n"
     ]
    }
   ],
   "source": [
    "lista =  [12, 31, 51]\n",
    "\n",
    "for i in lista:\n",
    "    if i % 2 == 0:\n",
    "        print(\"par:\", i)\n",
    "    else:\n",
    "        print(\"impar\", i)"
   ]
  }
 ],
 "metadata": {
  "kernelspec": {
   "display_name": "Python 3",
   "language": "python",
   "name": "python3"
  },
  "language_info": {
   "codemirror_mode": {
    "name": "ipython",
    "version": 3
   },
   "file_extension": ".py",
   "mimetype": "text/x-python",
   "name": "python",
   "nbconvert_exporter": "python",
   "pygments_lexer": "ipython3",
   "version": "3.13.3"
  }
 },
 "nbformat": 4,
 "nbformat_minor": 5
}
