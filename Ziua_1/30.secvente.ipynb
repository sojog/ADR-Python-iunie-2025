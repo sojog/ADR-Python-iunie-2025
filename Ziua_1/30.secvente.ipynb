{
 "cells": [
  {
   "cell_type": "code",
   "execution_count": 5,
   "id": "0ebcc7d8",
   "metadata": {},
   "outputs": [
    {
     "data": {
      "text/plain": [
       "([1, 23, 51, 'da'], list, 'da', 4)"
      ]
     },
     "execution_count": 5,
     "metadata": {},
     "output_type": "execute_result"
    }
   ],
   "source": [
    "secventa = [1, 23, 51, \"da\"]\n",
    "secventa, type(secventa), secventa[-1], len(secventa)"
   ]
  },
  {
   "cell_type": "code",
   "execution_count": 6,
   "id": "6e8a972b",
   "metadata": {},
   "outputs": [
    {
     "data": {
      "text/plain": [
       "((1, 23, 51, 'da'), tuple, 'da', 4)"
      ]
     },
     "execution_count": 6,
     "metadata": {},
     "output_type": "execute_result"
    }
   ],
   "source": [
    "secventa = (1, 23, 51, \"da\")\n",
    "secventa, type(secventa), secventa[-1], len(secventa)"
   ]
  },
  {
   "cell_type": "code",
   "execution_count": 7,
   "id": "8b91a2d4",
   "metadata": {},
   "outputs": [
    {
     "data": {
      "text/plain": [
       "('Bine ati venit', str, 't', 14)"
      ]
     },
     "execution_count": 7,
     "metadata": {},
     "output_type": "execute_result"
    }
   ],
   "source": [
    "secventa = \"Bine ati venit\"\n",
    "secventa, type(secventa), secventa[-1], len(secventa)"
   ]
  },
  {
   "cell_type": "code",
   "execution_count": 10,
   "id": "de815992",
   "metadata": {},
   "outputs": [
    {
     "data": {
      "text/plain": [
       "('B', ' ')"
      ]
     },
     "execution_count": 10,
     "metadata": {},
     "output_type": "execute_result"
    }
   ],
   "source": [
    "secventa = \"Bine ati venit\"\n",
    "secventa[0], secventa[4]\n",
    "\n",
    "\n"
   ]
  },
  {
   "cell_type": "code",
   "execution_count": 11,
   "id": "f391b9af",
   "metadata": {},
   "outputs": [
    {
     "data": {
      "text/plain": [
       "'Bine'"
      ]
     },
     "execution_count": 11,
     "metadata": {},
     "output_type": "execute_result"
    }
   ],
   "source": [
    "secventa = \"Bine ati venit\"\n",
    "secventa[0:4]"
   ]
  },
  {
   "cell_type": "markdown",
   "id": "f9837f53",
   "metadata": {},
   "source": [
    "# Slice"
   ]
  },
  {
   "cell_type": "code",
   "execution_count": 12,
   "id": "5c2a33e9",
   "metadata": {},
   "outputs": [
    {
     "data": {
      "text/plain": [
       "'Bine ati'"
      ]
     },
     "execution_count": 12,
     "metadata": {},
     "output_type": "execute_result"
    }
   ],
   "source": [
    "secventa = \"Bine ati venit\"\n",
    "secventa[0:8]"
   ]
  },
  {
   "cell_type": "code",
   "execution_count": 13,
   "id": "4af893ef",
   "metadata": {},
   "outputs": [
    {
     "data": {
      "text/plain": [
       "'veni'"
      ]
     },
     "execution_count": 13,
     "metadata": {},
     "output_type": "execute_result"
    }
   ],
   "source": [
    "secventa = \"Bine ati venit\"\n",
    "secventa[-5:-1]"
   ]
  },
  {
   "cell_type": "code",
   "execution_count": 14,
   "id": "41c0a62d",
   "metadata": {},
   "outputs": [
    {
     "data": {
      "text/plain": [
       "'venit'"
      ]
     },
     "execution_count": 14,
     "metadata": {},
     "output_type": "execute_result"
    }
   ],
   "source": [
    "secventa = \"Bine ati venit\"\n",
    "secventa[-5:]"
   ]
  },
  {
   "cell_type": "code",
   "execution_count": null,
   "id": "ed99a9f9",
   "metadata": {},
   "outputs": [
    {
     "data": {
      "text/plain": [
       "'Bine'"
      ]
     },
     "execution_count": 15,
     "metadata": {},
     "output_type": "execute_result"
    }
   ],
   "source": [
    "secventa = \"Bine ati venit\"\n",
    "secventa[0:4]"
   ]
  },
  {
   "cell_type": "code",
   "execution_count": 16,
   "id": "274744ef",
   "metadata": {},
   "outputs": [
    {
     "data": {
      "text/plain": [
       "'Bine'"
      ]
     },
     "execution_count": 16,
     "metadata": {},
     "output_type": "execute_result"
    }
   ],
   "source": [
    "secventa = \"Bine ati venit\"\n",
    "secventa[:4]"
   ]
  },
  {
   "cell_type": "code",
   "execution_count": 17,
   "id": "8c2c1a6c",
   "metadata": {},
   "outputs": [
    {
     "data": {
      "text/plain": [
       "['Bine', 'ati', 'venit']"
      ]
     },
     "execution_count": 17,
     "metadata": {},
     "output_type": "execute_result"
    }
   ],
   "source": [
    "secventa = \"Bine ati venit\"\n",
    "secventa.split()"
   ]
  },
  {
   "cell_type": "code",
   "execution_count": 18,
   "id": "5c805f4a",
   "metadata": {},
   "outputs": [
    {
     "data": {
      "text/plain": [
       "'venit'"
      ]
     },
     "execution_count": 18,
     "metadata": {},
     "output_type": "execute_result"
    }
   ],
   "source": [
    "secventa = \"Bine ati venit\"\n",
    "secventa.split()[-1]"
   ]
  },
  {
   "cell_type": "code",
   "execution_count": 20,
   "id": "81e00df4",
   "metadata": {},
   "outputs": [
    {
     "name": "stdout",
     "output_type": "stream",
     "text": [
      "['Bine', 'ati', 'venit', 'la', 'cursul', 'nostru', 'de', 'programare', 'Python']\n"
     ]
    }
   ],
   "source": [
    "secventa = \"Bine ati venit la cursul nostru de programare Python\"\n",
    "print(secventa.split())"
   ]
  },
  {
   "cell_type": "code",
   "execution_count": 22,
   "id": "a7a060cf",
   "metadata": {},
   "outputs": [
    {
     "name": "stdout",
     "output_type": "stream",
     "text": [
      "Fraza are  9 cuvinte\n"
     ]
    }
   ],
   "source": [
    "secventa = \"Bine ati venit la cursul nostru de programare Python\"\n",
    "cuvinte = secventa.split()\n",
    "print(\"Fraza are \", len(cuvinte), \"cuvinte\")"
   ]
  },
  {
   "cell_type": "code",
   "execution_count": null,
   "id": "0da21a6c",
   "metadata": {},
   "outputs": [],
   "source": []
  }
 ],
 "metadata": {
  "kernelspec": {
   "display_name": "Python 3",
   "language": "python",
   "name": "python3"
  },
  "language_info": {
   "codemirror_mode": {
    "name": "ipython",
    "version": 3
   },
   "file_extension": ".py",
   "mimetype": "text/x-python",
   "name": "python",
   "nbconvert_exporter": "python",
   "pygments_lexer": "ipython3",
   "version": "3.13.3"
  }
 },
 "nbformat": 4,
 "nbformat_minor": 5
}
