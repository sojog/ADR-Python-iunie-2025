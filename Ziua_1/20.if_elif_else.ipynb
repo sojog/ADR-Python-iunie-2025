{
 "cells": [
  {
   "cell_type": "code",
   "execution_count": 1,
   "id": "4ecc5a03",
   "metadata": {},
   "outputs": [
    {
     "name": "stdout",
     "output_type": "stream",
     "text": [
      "impart\n"
     ]
    }
   ],
   "source": [
    "nr = int(input(\"Introduceti un numar\"))\n",
    "\n",
    "if nr % 2 == 0:\n",
    "    print(\"par\")\n",
    "else:\n",
    "    print(\"impart\")\n",
    "\n"
   ]
  },
  {
   "cell_type": "code",
   "execution_count": 6,
   "id": "732b3936",
   "metadata": {},
   "outputs": [
    {
     "name": "stdout",
     "output_type": "stream",
     "text": [
      "par\n",
      "Numar nul\n"
     ]
    }
   ],
   "source": [
    "nr = 0\n",
    "\n",
    "if nr % 2 == 0:\n",
    "    print(\"par\")\n",
    "else:\n",
    "    print(\"impart\")\n",
    "\n",
    "\n",
    "if nr == 0:\n",
    "    print(\"Numar nul\")\n",
    "else:\n",
    "    print(\"Numar nenul\")"
   ]
  },
  {
   "cell_type": "code",
   "execution_count": 7,
   "id": "ae44e253",
   "metadata": {},
   "outputs": [
    {
     "name": "stdout",
     "output_type": "stream",
     "text": [
      "Major\n"
     ]
    }
   ],
   "source": [
    "varsta = 20\n",
    "\n",
    "if varsta < 18:\n",
    "    print(\"Minor\")\n",
    "else:\n",
    "    print(\"Major\")"
   ]
  },
  {
   "cell_type": "code",
   "execution_count": 10,
   "id": "b94227e8",
   "metadata": {},
   "outputs": [
    {
     "name": "stdout",
     "output_type": "stream",
     "text": [
      "Pensionar\n"
     ]
    }
   ],
   "source": [
    "varsta = 89\n",
    "\n",
    "if varsta < 18:\n",
    "    print(\"Minor\")\n",
    "else:\n",
    "    if varsta > 65:\n",
    "        print(\"Pensionar\")"
   ]
  },
  {
   "cell_type": "code",
   "execution_count": null,
   "id": "0a633593",
   "metadata": {},
   "outputs": [
    {
     "name": "stdout",
     "output_type": "stream",
     "text": [
      "Tanar\n"
     ]
    }
   ],
   "source": [
    "varsta = 29\n",
    "\n",
    "if varsta < 18:\n",
    "    print(\"Minor\")\n",
    "else:\n",
    "    if varsta < 30:\n",
    "        print(\"Tanar\")\n",
    "    else:\n",
    "        if varsta > 65:\n",
    "            print(\"Pensionar\")\n",
    "            "
   ]
  },
  {
   "cell_type": "code",
   "execution_count": null,
   "id": "0d8b27c0",
   "metadata": {},
   "outputs": [
    {
     "name": "stdout",
     "output_type": "stream",
     "text": [
      "Adult\n"
     ]
    }
   ],
   "source": [
    "varsta = 30\n",
    "\n",
    "if varsta < 18:\n",
    "    print(\"Minor\")\n",
    "elif varsta < 30:\n",
    "    print(\"Tanar\")\n",
    "elif varsta < 65:\n",
    "    print(\"Adult\")\n",
    "else:\n",
    "    print(\"Pensionar\")"
   ]
  },
  {
   "cell_type": "code",
   "execution_count": 16,
   "id": "23644f37",
   "metadata": {},
   "outputs": [
    {
     "name": "stdout",
     "output_type": "stream",
     "text": [
      "Adult\n"
     ]
    }
   ],
   "source": [
    "varsta = 30\n",
    "\n",
    "if varsta < 18:\n",
    "    print(\"Minor\")\n",
    "elif varsta < 30:\n",
    "    print(\"Tanar\")\n",
    "elif varsta < 65:\n",
    "    print(\"Adult\")"
   ]
  }
 ],
 "metadata": {
  "kernelspec": {
   "display_name": "Python 3",
   "language": "python",
   "name": "python3"
  },
  "language_info": {
   "codemirror_mode": {
    "name": "ipython",
    "version": 3
   },
   "file_extension": ".py",
   "mimetype": "text/x-python",
   "name": "python",
   "nbconvert_exporter": "python",
   "pygments_lexer": "ipython3",
   "version": "3.13.3"
  }
 },
 "nbformat": 4,
 "nbformat_minor": 5
}
