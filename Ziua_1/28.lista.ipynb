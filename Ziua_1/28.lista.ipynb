{
 "cells": [
  {
   "cell_type": "code",
   "execution_count": 2,
   "id": "2e1ac37c",
   "metadata": {},
   "outputs": [
    {
     "data": {
      "text/plain": [
       "[24, 51, 320, 410, 510]"
      ]
     },
     "execution_count": 2,
     "metadata": {},
     "output_type": "execute_result"
    }
   ],
   "source": [
    "lista = [24, 51, 510, 410, 320]\n",
    "# In place\n",
    "lista.sort()\n",
    "lista\n",
    "\n",
    "\n"
   ]
  },
  {
   "cell_type": "code",
   "execution_count": null,
   "id": "04abcca2",
   "metadata": {},
   "outputs": [
    {
     "name": "stdout",
     "output_type": "stream",
     "text": [
      "noua lista: [24, 51, 320, 410, 510]\n",
      "lista veche: [24, 51, 510, 410, 320]\n"
     ]
    }
   ],
   "source": [
    "lista = [24, 51, 510, 410, 320]\n",
    "o_noua_lista = sorted(lista)\n",
    "\n",
    "print(\"noua lista:\", o_noua_lista)\n",
    "print(\"lista veche:\", lista)\n"
   ]
  },
  {
   "cell_type": "code",
   "execution_count": 5,
   "id": "80aa488b",
   "metadata": {},
   "outputs": [
    {
     "name": "stdout",
     "output_type": "stream",
     "text": [
      "24\n",
      "51\n",
      "510\n",
      "410\n",
      "320\n"
     ]
    }
   ],
   "source": [
    "lista = [24, 51, 510, 410, 320]\n",
    "for i in lista:\n",
    "    print(i)\n"
   ]
  },
  {
   "cell_type": "code",
   "execution_count": 8,
   "id": "750c9c91",
   "metadata": {},
   "outputs": [
    {
     "name": "stdout",
     "output_type": "stream",
     "text": [
      "0\n",
      "1\n",
      "2\n",
      "3\n"
     ]
    }
   ],
   "source": [
    "lista = [24, 51, 510, 410]\n",
    "for i in range(len(lista)):\n",
    "    print(i)"
   ]
  },
  {
   "cell_type": "code",
   "execution_count": 9,
   "id": "d40d6520",
   "metadata": {},
   "outputs": [
    {
     "name": "stdout",
     "output_type": "stream",
     "text": [
      "0\n",
      "1\n",
      "2\n",
      "3\n"
     ]
    }
   ],
   "source": [
    "lista = [24, 51, 510, 410]\n",
    "for index in range(len(lista)):\n",
    "    print(index)"
   ]
  },
  {
   "cell_type": "code",
   "execution_count": 10,
   "id": "13d411b5",
   "metadata": {},
   "outputs": [
    {
     "name": "stdout",
     "output_type": "stream",
     "text": [
      "0 24\n",
      "1 51\n",
      "2 510\n",
      "3 410\n"
     ]
    }
   ],
   "source": [
    "lista = [24, 51, 510, 410]\n",
    "for index in range(len(lista)):\n",
    "    print(index, lista[index])"
   ]
  },
  {
   "cell_type": "code",
   "execution_count": 12,
   "id": "86819bba",
   "metadata": {},
   "outputs": [
    {
     "name": "stdout",
     "output_type": "stream",
     "text": [
      "(0, 24) <class 'tuple'>\n",
      "(1, 51) <class 'tuple'>\n",
      "(2, 510) <class 'tuple'>\n",
      "(3, 410) <class 'tuple'>\n"
     ]
    }
   ],
   "source": [
    "lista = [24, 51, 510, 410]\n",
    "for i in enumerate(lista):\n",
    "    print(i, type(i))"
   ]
  },
  {
   "cell_type": "code",
   "execution_count": null,
   "id": "3b790ed8",
   "metadata": {},
   "outputs": [],
   "source": []
  }
 ],
 "metadata": {
  "kernelspec": {
   "display_name": "Python 3",
   "language": "python",
   "name": "python3"
  },
  "language_info": {
   "codemirror_mode": {
    "name": "ipython",
    "version": 3
   },
   "file_extension": ".py",
   "mimetype": "text/x-python",
   "name": "python",
   "nbconvert_exporter": "python",
   "pygments_lexer": "ipython3",
   "version": "3.13.3"
  }
 },
 "nbformat": 4,
 "nbformat_minor": 5
}
