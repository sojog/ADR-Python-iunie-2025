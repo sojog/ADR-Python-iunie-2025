{
 "cells": [
  {
   "cell_type": "code",
   "execution_count": 1,
   "id": "4dc780b2",
   "metadata": {},
   "outputs": [
    {
     "name": "stdout",
     "output_type": "stream",
     "text": [
      "Fals\n"
     ]
    }
   ],
   "source": [
    "if 1 > 2:\n",
    "    print(\"Adevarat\")\n",
    "else:\n",
    "    print(\"Fals\")\n",
    "\n"
   ]
  },
  {
   "cell_type": "code",
   "execution_count": 3,
   "id": "84e47e21",
   "metadata": {},
   "outputs": [
    {
     "name": "stdout",
     "output_type": "stream",
     "text": [
      "Fals\n"
     ]
    }
   ],
   "source": [
    "if 1 == 2:\n",
    "    print(\"Adevarat\")\n",
    "else:\n",
    "    print(\"Fals\")"
   ]
  },
  {
   "cell_type": "code",
   "execution_count": 4,
   "id": "ffabfb0d",
   "metadata": {},
   "outputs": [
    {
     "data": {
      "text/plain": [
       "False"
      ]
     },
     "execution_count": 4,
     "metadata": {},
     "output_type": "execute_result"
    }
   ],
   "source": [
    "1 == 2"
   ]
  },
  {
   "cell_type": "code",
   "execution_count": 6,
   "id": "74ae015a",
   "metadata": {},
   "outputs": [
    {
     "name": "stdout",
     "output_type": "stream",
     "text": [
      "Adevarat\n"
     ]
    }
   ],
   "source": [
    "if 1 != 2: # diferit\n",
    "    print(\"Adevarat\")\n",
    "else:\n",
    "    print(\"Fals\")"
   ]
  },
  {
   "cell_type": "code",
   "execution_count": 7,
   "id": "6ab9f64c",
   "metadata": {},
   "outputs": [
    {
     "name": "stdout",
     "output_type": "stream",
     "text": [
      "Adevarat\n"
     ]
    }
   ],
   "source": [
    "if 1 <= 2: # diferit\n",
    "    print(\"Adevarat\")\n",
    "else:\n",
    "    print(\"Fals\")"
   ]
  },
  {
   "cell_type": "code",
   "execution_count": 8,
   "id": "7abccab8",
   "metadata": {},
   "outputs": [
    {
     "name": "stdout",
     "output_type": "stream",
     "text": [
      "Fals\n"
     ]
    }
   ],
   "source": [
    "if 1 >= 2: # diferit\n",
    "    print(\"Adevarat\")\n",
    "else:\n",
    "    print(\"Fals\")"
   ]
  }
 ],
 "metadata": {
  "kernelspec": {
   "display_name": "Python 3",
   "language": "python",
   "name": "python3"
  },
  "language_info": {
   "codemirror_mode": {
    "name": "ipython",
    "version": 3
   },
   "file_extension": ".py",
   "mimetype": "text/x-python",
   "name": "python",
   "nbconvert_exporter": "python",
   "pygments_lexer": "ipython3",
   "version": "3.13.3"
  }
 },
 "nbformat": 4,
 "nbformat_minor": 5
}
