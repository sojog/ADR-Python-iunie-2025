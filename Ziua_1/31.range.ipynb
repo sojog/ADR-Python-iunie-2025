{
 "cells": [
  {
   "cell_type": "code",
   "execution_count": 1,
   "id": "04e72cf0",
   "metadata": {},
   "outputs": [
    {
     "name": "stdout",
     "output_type": "stream",
     "text": [
      "0\n",
      "1\n",
      "2\n"
     ]
    }
   ],
   "source": [
    "for i in range(3):\n",
    "    print(i)"
   ]
  },
  {
   "cell_type": "code",
   "execution_count": 2,
   "id": "5293edcd",
   "metadata": {},
   "outputs": [
    {
     "name": "stdout",
     "output_type": "stream",
     "text": [
      "2\n"
     ]
    }
   ],
   "source": [
    "for i in range(2, 3):\n",
    "    print(i)"
   ]
  },
  {
   "cell_type": "code",
   "execution_count": 3,
   "id": "b50a3230",
   "metadata": {},
   "outputs": [
    {
     "name": "stdout",
     "output_type": "stream",
     "text": [
      "2\n",
      "3\n",
      "4\n"
     ]
    }
   ],
   "source": [
    "for i in range(2, 5):\n",
    "    print(i)"
   ]
  },
  {
   "cell_type": "code",
   "execution_count": 5,
   "id": "1578d142",
   "metadata": {},
   "outputs": [
    {
     "name": "stdout",
     "output_type": "stream",
     "text": [
      "7\n",
      "8\n",
      "9\n"
     ]
    }
   ],
   "source": [
    "for i in range(7, 10):\n",
    "    print(i)"
   ]
  },
  {
   "cell_type": "code",
   "execution_count": 7,
   "id": "cf1f8ed7",
   "metadata": {},
   "outputs": [
    {
     "name": "stdout",
     "output_type": "stream",
     "text": [
      "2\n",
      "4\n",
      "6\n",
      "8\n"
     ]
    }
   ],
   "source": [
    "for i in range(2, 10, 2):\n",
    "    print(i)"
   ]
  },
  {
   "cell_type": "code",
   "execution_count": 8,
   "id": "3e38c967",
   "metadata": {},
   "outputs": [
    {
     "name": "stdout",
     "output_type": "stream",
     "text": [
      "2\n",
      "5\n",
      "8\n"
     ]
    }
   ],
   "source": [
    "for i in range(2, 10, 3):\n",
    "    print(i)"
   ]
  },
  {
   "cell_type": "code",
   "execution_count": 9,
   "id": "55ff6e20",
   "metadata": {},
   "outputs": [],
   "source": [
    "for i in range(2, 10, -1):\n",
    "    print(i)"
   ]
  },
  {
   "cell_type": "code",
   "execution_count": 11,
   "id": "421d5211",
   "metadata": {},
   "outputs": [
    {
     "name": "stdout",
     "output_type": "stream",
     "text": [
      "10\n",
      "9\n",
      "8\n"
     ]
    }
   ],
   "source": [
    "for i in range(10, 7, -1):\n",
    "    print(i)"
   ]
  },
  {
   "cell_type": "code",
   "execution_count": 12,
   "id": "87b6cb38",
   "metadata": {},
   "outputs": [
    {
     "name": "stdout",
     "output_type": "stream",
     "text": [
      "7\n",
      "8\n",
      "9\n"
     ]
    }
   ],
   "source": [
    "for i in range(7, 10, 1):\n",
    "    print(i)"
   ]
  },
  {
   "cell_type": "code",
   "execution_count": 15,
   "id": "08bcc867",
   "metadata": {},
   "outputs": [
    {
     "data": {
      "text/plain": [
       "' ati venit la cu'"
      ]
     },
     "execution_count": 15,
     "metadata": {},
     "output_type": "execute_result"
    }
   ],
   "source": [
    "text = \"bine ati venit la cursul de Python\"\n",
    "text[4:20]"
   ]
  },
  {
   "cell_type": "code",
   "execution_count": 16,
   "id": "79250765",
   "metadata": {},
   "outputs": [
    {
     "data": {
      "text/plain": [
       "' t ei ac'"
      ]
     },
     "execution_count": 16,
     "metadata": {},
     "output_type": "execute_result"
    }
   ],
   "source": [
    "text = \"bine ati venit la cursul de Python\"\n",
    "text[4:20:2]"
   ]
  },
  {
   "cell_type": "markdown",
   "id": "a8fb5ee4",
   "metadata": {},
   "source": [
    "# Inversare a unui text"
   ]
  },
  {
   "cell_type": "code",
   "execution_count": 19,
   "id": "56c64fd8",
   "metadata": {},
   "outputs": [
    {
     "data": {
      "text/plain": [
       "'nohtyP ed lusruc al tinev ita enib'"
      ]
     },
     "execution_count": 19,
     "metadata": {},
     "output_type": "execute_result"
    }
   ],
   "source": [
    "text = \"bine ati venit la cursul de Python\"\n",
    "text[::-1]"
   ]
  },
  {
   "cell_type": "code",
   "execution_count": 20,
   "id": "70645408",
   "metadata": {},
   "outputs": [
    {
     "data": {
      "text/plain": [
       "[5, 4, 3, 2, 1]"
      ]
     },
     "execution_count": 20,
     "metadata": {},
     "output_type": "execute_result"
    }
   ],
   "source": [
    "lista = [1, 2, 3, 4, 5]\n",
    "lista[::-1]"
   ]
  },
  {
   "cell_type": "code",
   "execution_count": 21,
   "id": "d79545bb",
   "metadata": {},
   "outputs": [
    {
     "data": {
      "text/plain": [
       "['bine', 'ati', 'venit', 'la', 'cursul', 'de', 'Python']"
      ]
     },
     "execution_count": 21,
     "metadata": {},
     "output_type": "execute_result"
    }
   ],
   "source": [
    "text = \"bine ati venit la cursul de Python\"\n",
    "text.split()"
   ]
  },
  {
   "cell_type": "code",
   "execution_count": 22,
   "id": "051a96be",
   "metadata": {},
   "outputs": [
    {
     "data": {
      "text/plain": [
       "['Python', 'de', 'cursul', 'la', 'venit', 'ati', 'bine']"
      ]
     },
     "execution_count": 22,
     "metadata": {},
     "output_type": "execute_result"
    }
   ],
   "source": [
    "text = \"bine ati venit la cursul de Python\"\n",
    "text.split()[::-1]"
   ]
  },
  {
   "cell_type": "code",
   "execution_count": 24,
   "id": "009e8c4a",
   "metadata": {},
   "outputs": [
    {
     "data": {
      "text/plain": [
       "\"['Python', 'de', 'cursul', 'la', 'venit', 'ati', 'bine']\""
      ]
     },
     "execution_count": 24,
     "metadata": {},
     "output_type": "execute_result"
    }
   ],
   "source": [
    "text = \"bine ati venit la cursul de Python\"\n",
    "str(text.split()[::-1])"
   ]
  },
  {
   "cell_type": "code",
   "execution_count": 26,
   "id": "a7a51e9a",
   "metadata": {},
   "outputs": [
    {
     "name": "stdout",
     "output_type": "stream",
     "text": [
      "['b', 'i', 'n', 'e', ' ', 'a', 't', 'i', ' ', 'v', 'e', 'n', 'i', 't', ' ', 'l', 'a', ' ', 'c', 'u', 'r', 's', 'u', 'l', ' ', 'd', 'e', ' ', 'P', 'y', 't', 'h', 'o', 'n']\n"
     ]
    }
   ],
   "source": [
    "text = \"bine ati venit la cursul de Python\"\n",
    "print(list(text))"
   ]
  },
  {
   "cell_type": "code",
   "execution_count": 31,
   "id": "ad0f1da1",
   "metadata": {},
   "outputs": [
    {
     "data": {
      "text/plain": [
       "'Python de cursul la venit ati bine'"
      ]
     },
     "execution_count": 31,
     "metadata": {},
     "output_type": "execute_result"
    }
   ],
   "source": [
    "text = \"bine ati venit la cursul de Python\"\n",
    "\" \".join(text.split()[::-1])"
   ]
  },
  {
   "cell_type": "code",
   "execution_count": 32,
   "id": "975765f0",
   "metadata": {},
   "outputs": [
    {
     "data": {
      "text/plain": [
       "'bine ati venit la cursul de Programare'"
      ]
     },
     "execution_count": 32,
     "metadata": {},
     "output_type": "execute_result"
    }
   ],
   "source": [
    "text = \"bine ati venit la cursul de Python\"\n",
    "text.replace(\"Python\", \"Programare\")"
   ]
  },
  {
   "cell_type": "code",
   "execution_count": null,
   "id": "97d7bd46",
   "metadata": {},
   "outputs": [],
   "source": []
  }
 ],
 "metadata": {
  "kernelspec": {
   "display_name": "Python 3",
   "language": "python",
   "name": "python3"
  },
  "language_info": {
   "codemirror_mode": {
    "name": "ipython",
    "version": 3
   },
   "file_extension": ".py",
   "mimetype": "text/x-python",
   "name": "python",
   "nbconvert_exporter": "python",
   "pygments_lexer": "ipython3",
   "version": "3.13.3"
  }
 },
 "nbformat": 4,
 "nbformat_minor": 5
}
