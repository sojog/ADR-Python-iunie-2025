{
 "cells": [
  {
   "cell_type": "code",
   "execution_count": 1,
   "id": "a90ea6fb",
   "metadata": {},
   "outputs": [
    {
     "name": "stdout",
     "output_type": "stream",
     "text": [
      "AI introdus valoarea: hello\n"
     ]
    }
   ],
   "source": [
    "x = input(\"I\\ntroduceti ceva \\n\")\n",
    "\n",
    "print(\"AI introdus valoarea:\", x)"
   ]
  },
  {
   "cell_type": "code",
   "execution_count": 2,
   "id": "13df4edf",
   "metadata": {},
   "outputs": [
    {
     "data": {
      "text/plain": [
       "21"
      ]
     },
     "execution_count": 2,
     "metadata": {},
     "output_type": "execute_result"
    }
   ],
   "source": [
    "3 + 5 * 4 - 2"
   ]
  }
 ],
 "metadata": {
  "kernelspec": {
   "display_name": "Python 3",
   "language": "python",
   "name": "python3"
  },
  "language_info": {
   "codemirror_mode": {
    "name": "ipython",
    "version": 3
   },
   "file_extension": ".py",
   "mimetype": "text/x-python",
   "name": "python",
   "nbconvert_exporter": "python",
   "pygments_lexer": "ipython3",
   "version": "3.13.3"
  }
 },
 "nbformat": 4,
 "nbformat_minor": 5
}
