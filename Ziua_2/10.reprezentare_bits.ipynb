{
 "cells": [
  {
   "cell_type": "code",
   "execution_count": 2,
   "id": "e968e723",
   "metadata": {},
   "outputs": [
    {
     "data": {
      "text/plain": [
       "('0b0', '0b1')"
      ]
     },
     "execution_count": 2,
     "metadata": {},
     "output_type": "execute_result"
    }
   ],
   "source": [
    "bin(0), bin(1)"
   ]
  },
  {
   "cell_type": "code",
   "execution_count": 4,
   "id": "cef58649",
   "metadata": {},
   "outputs": [
    {
     "name": "stdout",
     "output_type": "stream",
     "text": [
      "Valoarea 0 in binar este 0b0\n",
      "Valoarea 1 in binar este 0b1\n",
      "Valoarea 2 in binar este 0b10\n",
      "Valoarea 3 in binar este 0b11\n",
      "Valoarea 4 in binar este 0b100\n",
      "Valoarea 5 in binar este 0b101\n",
      "Valoarea 6 in binar este 0b110\n",
      "Valoarea 7 in binar este 0b111\n",
      "Valoarea 8 in binar este 0b1000\n",
      "Valoarea 9 in binar este 0b1001\n",
      "Valoarea 10 in binar este 0b1010\n",
      "Valoarea 11 in binar este 0b1011\n",
      "Valoarea 12 in binar este 0b1100\n",
      "Valoarea 13 in binar este 0b1101\n",
      "Valoarea 14 in binar este 0b1110\n",
      "Valoarea 15 in binar este 0b1111\n",
      "Valoarea 16 in binar este 0b10000\n"
     ]
    }
   ],
   "source": [
    "for i in range(17):\n",
    "    print(f\"Valoarea {i} in binar este {bin(i)}\")"
   ]
  },
  {
   "cell_type": "code",
   "execution_count": 5,
   "id": "080a1ac2",
   "metadata": {},
   "outputs": [
    {
     "data": {
      "text/plain": [
       "256"
      ]
     },
     "execution_count": 5,
     "metadata": {},
     "output_type": "execute_result"
    }
   ],
   "source": [
    "2 ** 8"
   ]
  },
  {
   "cell_type": "code",
   "execution_count": 7,
   "id": "e2011fc6",
   "metadata": {},
   "outputs": [
    {
     "name": "stdout",
     "output_type": "stream",
     "text": [
      "Valoarea 255 in binar este 0b11111111\n"
     ]
    }
   ],
   "source": [
    "i = 2 ** 8 - 1\n",
    "print(f\"Valoarea {i} in binar este {bin(i)}\")"
   ]
  },
  {
   "cell_type": "code",
   "execution_count": null,
   "id": "85c0aad5",
   "metadata": {},
   "outputs": [],
   "source": [
    "0 .. 255\n",
    "\n",
    "-128..127"
   ]
  }
 ],
 "metadata": {
  "kernelspec": {
   "display_name": "Python 3",
   "language": "python",
   "name": "python3"
  },
  "language_info": {
   "codemirror_mode": {
    "name": "ipython",
    "version": 3
   },
   "file_extension": ".py",
   "mimetype": "text/x-python",
   "name": "python",
   "nbconvert_exporter": "python",
   "pygments_lexer": "ipython3",
   "version": "3.13.3"
  }
 },
 "nbformat": 4,
 "nbformat_minor": 5
}
