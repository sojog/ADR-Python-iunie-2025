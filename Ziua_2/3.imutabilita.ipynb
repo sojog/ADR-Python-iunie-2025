{
 "cells": [
  {
   "cell_type": "code",
   "execution_count": 1,
   "id": "dcf9691b",
   "metadata": {},
   "outputs": [
    {
     "name": "stdout",
     "output_type": "stream",
     "text": [
      "vechea lista ['a', 'x', 'd']\n",
      "noua lista ['a', 'd', 'x']\n"
     ]
    }
   ],
   "source": [
    "lista = [\"a\", \"x\", \"d\"]\n",
    "\n",
    "noua_lista = sorted(lista) # creaza o noua lista\n",
    "\n",
    "print(\"vechea lista\", lista)\n",
    "print(\"noua lista\", noua_lista)"
   ]
  },
  {
   "cell_type": "code",
   "execution_count": 2,
   "id": "b4aa0a51",
   "metadata": {},
   "outputs": [
    {
     "name": "stdout",
     "output_type": "stream",
     "text": [
      "vechea lista ['a', 'd', 'x']\n",
      "noua lista None\n"
     ]
    }
   ],
   "source": [
    "noua_lista = lista.sort()\n",
    "print(\"vechea lista\", lista)\n",
    "print(\"noua lista\", noua_lista)"
   ]
  },
  {
   "cell_type": "code",
   "execution_count": 3,
   "id": "92acdbfe",
   "metadata": {},
   "outputs": [
    {
     "data": {
      "text/plain": [
       "['a', 'd', 'x']"
      ]
     },
     "execution_count": 3,
     "metadata": {},
     "output_type": "execute_result"
    }
   ],
   "source": [
    "tuplu = (\"a\", \"x\", \"d\")\n",
    "\n",
    "sorted(tuplu) "
   ]
  },
  {
   "cell_type": "code",
   "execution_count": 5,
   "id": "6c27ecb8",
   "metadata": {},
   "outputs": [
    {
     "data": {
      "text/plain": [
       "['a', 'a', 'a', 'b', 'c', 'c', 'd', 's', 'v', 'x', 'x']"
      ]
     },
     "execution_count": 5,
     "metadata": {},
     "output_type": "execute_result"
    }
   ],
   "source": [
    "string = \"axxvcbcasda\" \n",
    "sorted(string)"
   ]
  }
 ],
 "metadata": {
  "kernelspec": {
   "display_name": "Python 3",
   "language": "python",
   "name": "python3"
  },
  "language_info": {
   "codemirror_mode": {
    "name": "ipython",
    "version": 3
   },
   "file_extension": ".py",
   "mimetype": "text/x-python",
   "name": "python",
   "nbconvert_exporter": "python",
   "pygments_lexer": "ipython3",
   "version": "3.13.3"
  }
 },
 "nbformat": 4,
 "nbformat_minor": 5
}
