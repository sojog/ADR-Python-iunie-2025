{
 "cells": [
  {
   "cell_type": "code",
   "execution_count": 2,
   "id": "917c583c",
   "metadata": {},
   "outputs": [],
   "source": [
    "import numpy as np"
   ]
  },
  {
   "cell_type": "code",
   "execution_count": 3,
   "id": "23be23b8",
   "metadata": {},
   "outputs": [
    {
     "data": {
      "text/plain": [
       "'\\nNumPy\\n=====\\n\\nProvides\\n  1. An array object of arbitrary homogeneous items\\n  2. Fast mathematical operations over arrays\\n  3. Linear Algebra, Fourier Transforms, Random Number Generation\\n\\nHow to use the documentation\\n----------------------------\\nDocumentation is available in two forms: docstrings provided\\nwith the code, and a loose standing reference guide, available from\\n`the NumPy homepage <https://numpy.org>`_.\\n\\nWe recommend exploring the docstrings using\\n`IPython <https://ipython.org>`_, an advanced Python shell with\\nTAB-completion and introspection capabilities.  See below for further\\ninstructions.\\n\\nThe docstring examples assume that `numpy` has been imported as ``np``::\\n\\n  >>> import numpy as np\\n\\nCode snippets are indicated by three greater-than signs::\\n\\n  >>> x = 42\\n  >>> x = x + 1\\n\\nUse the built-in ``help`` function to view a function\\'s docstring::\\n\\n  >>> help(np.sort)\\n  ... # doctest: +SKIP\\n\\nFor some objects, ``np.info(obj)`` may provide additional help.  This is\\nparticularly true if you see the line \"Help on ufunc object:\" at the top\\nof the help() page.  Ufuncs are implemented in C, not Python, for speed.\\nThe native Python help() does not know how to view their help, but our\\nnp.info() function does.\\n\\nAvailable subpackages\\n---------------------\\nlib\\n    Basic functions used by several sub-packages.\\nrandom\\n    Core Random Tools\\nlinalg\\n    Core Linear Algebra Tools\\nfft\\n    Core FFT routines\\npolynomial\\n    Polynomial tools\\ntesting\\n    NumPy testing tools\\ndistutils\\n    Enhancements to distutils with support for\\n    Fortran compilers support and more (for Python <= 3.11)\\n\\nUtilities\\n---------\\ntest\\n    Run numpy unittests\\nshow_config\\n    Show numpy build configuration\\n__version__\\n    NumPy version string\\n\\nViewing documentation using IPython\\n-----------------------------------\\n\\nStart IPython and import `numpy` usually under the alias ``np``: `import\\nnumpy as np`.  Then, directly past or use the ``%cpaste`` magic to paste\\nexamples into the shell.  To see which functions are available in `numpy`,\\ntype ``np.<TAB>`` (where ``<TAB>`` refers to the TAB key), or use\\n``np.*cos*?<ENTER>`` (where ``<ENTER>`` refers to the ENTER key) to narrow\\ndown the list.  To view the docstring for a function, use\\n``np.cos?<ENTER>`` (to view the docstring) and ``np.cos??<ENTER>`` (to view\\nthe source code).\\n\\nCopies vs. in-place operation\\n-----------------------------\\nMost of the functions in `numpy` return a copy of the array argument\\n(e.g., `np.sort`).  In-place versions of these functions are often\\navailable as array methods, i.e. ``x = np.array([1,2,3]); x.sort()``.\\nExceptions to this rule are documented.\\n\\n'"
      ]
     },
     "execution_count": 3,
     "metadata": {},
     "output_type": "execute_result"
    }
   ],
   "source": [
    "np.__doc__"
   ]
  },
  {
   "cell_type": "code",
   "execution_count": null,
   "id": "d5487c8d",
   "metadata": {},
   "outputs": [],
   "source": [
    "print(np.__doc__)"
   ]
  },
  {
   "cell_type": "code",
   "execution_count": 6,
   "id": "9998d670",
   "metadata": {},
   "outputs": [],
   "source": [
    "lista = [1, 2, 3, 4, 5, 6, 7, 9]"
   ]
  },
  {
   "cell_type": "code",
   "execution_count": 8,
   "id": "dd454744",
   "metadata": {},
   "outputs": [
    {
     "data": {
      "text/plain": [
       "(array([1, 2, 3, 4, 5, 6, 7, 9]), numpy.ndarray)"
      ]
     },
     "execution_count": 8,
     "metadata": {},
     "output_type": "execute_result"
    }
   ],
   "source": [
    "\n",
    "array = np.array(lista)\n",
    "array, type(array)"
   ]
  },
  {
   "cell_type": "code",
   "execution_count": 10,
   "id": "544f262d",
   "metadata": {},
   "outputs": [
    {
     "data": {
      "text/plain": [
       "(array([[1, 2],\n",
       "        [3, 4]]),\n",
       " numpy.ndarray)"
      ]
     },
     "execution_count": 10,
     "metadata": {},
     "output_type": "execute_result"
    }
   ],
   "source": [
    "matrice = [ [1, 2], [3, 4] ]\n",
    "array = np.array(matrice)\n",
    "array, type(array)\n"
   ]
  },
  {
   "cell_type": "code",
   "execution_count": 11,
   "id": "52da95bc",
   "metadata": {},
   "outputs": [],
   "source": [
    "lista = [1, True, 3, 4.3, 5, \"Hello\", 7, 9]"
   ]
  },
  {
   "cell_type": "code",
   "execution_count": 12,
   "id": "ca916c52",
   "metadata": {},
   "outputs": [
    {
     "data": {
      "text/plain": [
       "(array(['1', 'True', '3', '4.3', '5', 'Hello', '7', '9'], dtype='<U32'),\n",
       " numpy.ndarray)"
      ]
     },
     "execution_count": 12,
     "metadata": {},
     "output_type": "execute_result"
    }
   ],
   "source": [
    "lista = [1, True, 3, 4.3, 5, \"Hello\", 7, 9]\n",
    "\n",
    "array = np.array(lista)\n",
    "array, type(array)"
   ]
  },
  {
   "cell_type": "code",
   "execution_count": 13,
   "id": "cea3c511",
   "metadata": {},
   "outputs": [
    {
     "data": {
      "text/plain": [
       "(array([1. , 1. , 3. , 4.3, 5. , 7. , 9. ]), numpy.ndarray)"
      ]
     },
     "execution_count": 13,
     "metadata": {},
     "output_type": "execute_result"
    }
   ],
   "source": [
    "lista = [1, True, 3, 4.3, 5,  7, 9]\n",
    "\n",
    "array = np.array(lista)\n",
    "array, type(array)"
   ]
  },
  {
   "cell_type": "code",
   "execution_count": 14,
   "id": "3af21d4e",
   "metadata": {},
   "outputs": [
    {
     "ename": "ValueError",
     "evalue": "setting an array element with a sequence. The requested array has an inhomogeneous shape after 1 dimensions. The detected shape was (8,) + inhomogeneous part.",
     "output_type": "error",
     "traceback": [
      "\u001b[31m---------------------------------------------------------------------------\u001b[39m",
      "\u001b[31mValueError\u001b[39m                                Traceback (most recent call last)",
      "\u001b[36mCell\u001b[39m\u001b[36m \u001b[39m\u001b[32mIn[14]\u001b[39m\u001b[32m, line 3\u001b[39m\n\u001b[32m      1\u001b[39m lista = [\u001b[32m1\u001b[39m, \u001b[38;5;28;01mTrue\u001b[39;00m, \u001b[32m3\u001b[39m, \u001b[32m4.3\u001b[39m, \u001b[32m5\u001b[39m,  \u001b[32m7\u001b[39m, \u001b[32m9\u001b[39m, [\u001b[32m1\u001b[39m, \u001b[32m23\u001b[39m, \u001b[32m4\u001b[39m]]\n\u001b[32m----> \u001b[39m\u001b[32m3\u001b[39m array = \u001b[43mnp\u001b[49m\u001b[43m.\u001b[49m\u001b[43marray\u001b[49m\u001b[43m(\u001b[49m\u001b[43mlista\u001b[49m\u001b[43m)\u001b[49m\n\u001b[32m      4\u001b[39m array, \u001b[38;5;28mtype\u001b[39m(array)\n",
      "\u001b[31mValueError\u001b[39m: setting an array element with a sequence. The requested array has an inhomogeneous shape after 1 dimensions. The detected shape was (8,) + inhomogeneous part."
     ]
    }
   ],
   "source": [
    "lista = [1, True, 3, 4.3, 5,  7, 9, [1, 23, 4]]\n",
    "\n",
    "array = np.array(lista)\n",
    "array, type(array)"
   ]
  },
  {
   "cell_type": "code",
   "execution_count": 17,
   "id": "72291f37",
   "metadata": {},
   "outputs": [
    {
     "data": {
      "text/plain": [
       "(array([[1, 2, 6],\n",
       "        [3, 4, 5]]),\n",
       " numpy.ndarray)"
      ]
     },
     "execution_count": 17,
     "metadata": {},
     "output_type": "execute_result"
    }
   ],
   "source": [
    "matrice = [ [1, 2, 6], [3, 4, 5] ]\n",
    "array = np.array(matrice)\n",
    "array, type(array)\n"
   ]
  },
  {
   "cell_type": "code",
   "execution_count": null,
   "id": "fcbc3e1c",
   "metadata": {},
   "outputs": [
    {
     "data": {
      "text/plain": [
       "(array([[1, 2, 6],\n",
       "        [3, 4, 5]]),\n",
       " numpy.ndarray,\n",
       " dtype('int64'))"
      ]
     },
     "execution_count": 19,
     "metadata": {},
     "output_type": "execute_result"
    }
   ],
   "source": [
    "matrice = [ [1, 2, 6], [3, 4, 5] ]\n",
    "array = np.array(matrice)\n",
    "array, type(array), array.dtype"
   ]
  },
  {
   "cell_type": "code",
   "execution_count": 20,
   "id": "da732260",
   "metadata": {},
   "outputs": [
    {
     "data": {
      "text/plain": [
       "(array([[1, 2, 6],\n",
       "        [3, 4, 5]], dtype=int8),\n",
       " numpy.ndarray,\n",
       " dtype('int8'))"
      ]
     },
     "execution_count": 20,
     "metadata": {},
     "output_type": "execute_result"
    }
   ],
   "source": [
    "matrice = [ [1, 2, 6], [3, 4, 5] ]\n",
    "array = np.array(matrice, dtype=np.int8)\n",
    "array, type(array), array.dtype"
   ]
  },
  {
   "cell_type": "code",
   "execution_count": 22,
   "id": "e0b7cc4a",
   "metadata": {},
   "outputs": [
    {
     "data": {
      "text/plain": [
       "(array([[  1,   2,   6],\n",
       "        [  3,   4, 127]], dtype=int8),\n",
       " numpy.ndarray,\n",
       " dtype('int8'))"
      ]
     },
     "execution_count": 22,
     "metadata": {},
     "output_type": "execute_result"
    }
   ],
   "source": [
    "matrice = [ [1, 2, 6], [3, 4, 127] ]\n",
    "array = np.array(matrice, dtype=np.int8)\n",
    "array, type(array), array.dtype"
   ]
  },
  {
   "cell_type": "code",
   "execution_count": 24,
   "id": "77d984f6",
   "metadata": {},
   "outputs": [
    {
     "data": {
      "text/plain": [
       "(array([[   1,    2,    6],\n",
       "        [   3,    4, -128]], dtype=int8),\n",
       " numpy.ndarray,\n",
       " dtype('int8'))"
      ]
     },
     "execution_count": 24,
     "metadata": {},
     "output_type": "execute_result"
    }
   ],
   "source": [
    "matrice = [ [1, 2, 6], [3, 4, -128] ]\n",
    "array = np.array(matrice, dtype=np.int8)\n",
    "array, type(array), array.dtype"
   ]
  },
  {
   "cell_type": "code",
   "execution_count": 27,
   "id": "a1c98c60",
   "metadata": {},
   "outputs": [
    {
     "data": {
      "text/plain": [
       "(array([[  1,   2,   6],\n",
       "        [  3,   4, 255]], dtype=uint8),\n",
       " numpy.ndarray,\n",
       " dtype('uint8'))"
      ]
     },
     "execution_count": 27,
     "metadata": {},
     "output_type": "execute_result"
    }
   ],
   "source": [
    "matrice = [ [1, 2, 6], [3, 4, 255] ]\n",
    "array = np.array(matrice, dtype=np.uint8)\n",
    "array, type(array), array.dtype"
   ]
  },
  {
   "cell_type": "code",
   "execution_count": 28,
   "id": "112cfc56",
   "metadata": {},
   "outputs": [
    {
     "ename": "OverflowError",
     "evalue": "Python integer 256 out of bounds for uint8",
     "output_type": "error",
     "traceback": [
      "\u001b[31m---------------------------------------------------------------------------\u001b[39m",
      "\u001b[31mOverflowError\u001b[39m                             Traceback (most recent call last)",
      "\u001b[36mCell\u001b[39m\u001b[36m \u001b[39m\u001b[32mIn[28]\u001b[39m\u001b[32m, line 2\u001b[39m\n\u001b[32m      1\u001b[39m matrice = [ [\u001b[32m1\u001b[39m, \u001b[32m2\u001b[39m, \u001b[32m6\u001b[39m], [\u001b[32m3\u001b[39m, \u001b[32m4\u001b[39m, \u001b[32m256\u001b[39m] ]\n\u001b[32m----> \u001b[39m\u001b[32m2\u001b[39m array = \u001b[43mnp\u001b[49m\u001b[43m.\u001b[49m\u001b[43marray\u001b[49m\u001b[43m(\u001b[49m\u001b[43mmatrice\u001b[49m\u001b[43m,\u001b[49m\u001b[43m \u001b[49m\u001b[43mdtype\u001b[49m\u001b[43m=\u001b[49m\u001b[43mnp\u001b[49m\u001b[43m.\u001b[49m\u001b[43muint8\u001b[49m\u001b[43m)\u001b[49m\n\u001b[32m      3\u001b[39m array, \u001b[38;5;28mtype\u001b[39m(array), array.dtype\n",
      "\u001b[31mOverflowError\u001b[39m: Python integer 256 out of bounds for uint8"
     ]
    }
   ],
   "source": [
    "matrice = [ [1, 2, 6], [3, 4, 256] ]\n",
    "array = np.array(matrice, dtype=np.uint8)\n",
    "array, type(array), array.dtype"
   ]
  }
 ],
 "metadata": {
  "kernelspec": {
   "display_name": "Python 3",
   "language": "python",
   "name": "python3"
  },
  "language_info": {
   "codemirror_mode": {
    "name": "ipython",
    "version": 3
   },
   "file_extension": ".py",
   "mimetype": "text/x-python",
   "name": "python",
   "nbconvert_exporter": "python",
   "pygments_lexer": "ipython3",
   "version": "3.13.3"
  }
 },
 "nbformat": 4,
 "nbformat_minor": 5
}
