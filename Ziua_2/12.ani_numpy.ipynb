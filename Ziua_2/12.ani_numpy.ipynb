{
 "cells": [
  {
   "cell_type": "code",
   "execution_count": 1,
   "id": "d3e9d2d7",
   "metadata": {},
   "outputs": [],
   "source": [
    "import numpy as np"
   ]
  },
  {
   "cell_type": "code",
   "execution_count": 7,
   "id": "cd06210e",
   "metadata": {},
   "outputs": [
    {
     "data": {
      "text/plain": [
       "(array([1800, 1801, 1802, 1803, 1804, 1805, 1806, 1807, 1808, 1809]),\n",
       " array([2015, 2016, 2017, 2018, 2019, 2020, 2021, 2022, 2023, 2024]))"
      ]
     },
     "execution_count": 7,
     "metadata": {},
     "output_type": "execute_result"
    }
   ],
   "source": [
    "start_year = 1800\n",
    "stop_year = 2025\n",
    "\n",
    "years = np.arange(start_year, stop_year)\n",
    "years[:10], years[-10:]"
   ]
  },
  {
   "cell_type": "code",
   "execution_count": 8,
   "id": "8fa015fa",
   "metadata": {},
   "outputs": [
    {
     "data": {
      "text/plain": [
       "array([1804, 1808, 1812, 1816, 1820, 1824, 1828, 1832, 1836, 1840, 1844,\n",
       "       1848, 1852, 1856, 1860, 1864, 1868, 1872, 1876, 1880, 1884, 1888,\n",
       "       1892, 1896, 1904, 1908, 1912, 1916, 1920, 1924, 1928, 1932, 1936,\n",
       "       1940, 1944, 1948, 1952, 1956, 1960, 1964, 1968, 1972, 1976, 1980,\n",
       "       1984, 1988, 1992, 1996, 2000, 2004, 2008, 2012, 2016, 2020, 2024])"
      ]
     },
     "execution_count": 8,
     "metadata": {},
     "output_type": "execute_result"
    }
   ],
   "source": [
    "divizibile_cu_400 = years % 400 == 0\n",
    "nedivizibile_cu_100 = years % 100 != 0\n",
    "divizibile_cu_4 = years % 4 == 0\n",
    "\n",
    "leap_years = years[ divizibile_cu_400 | (nedivizibile_cu_100 & divizibile_cu_4) ]\n",
    "leap_years"
   ]
  },
  {
   "cell_type": "code",
   "execution_count": null,
   "id": "5599e0f7",
   "metadata": {},
   "outputs": [],
   "source": []
  }
 ],
 "metadata": {
  "kernelspec": {
   "display_name": "Python 3",
   "language": "python",
   "name": "python3"
  },
  "language_info": {
   "codemirror_mode": {
    "name": "ipython",
    "version": 3
   },
   "file_extension": ".py",
   "mimetype": "text/x-python",
   "name": "python",
   "nbconvert_exporter": "python",
   "pygments_lexer": "ipython3",
   "version": "3.13.3"
  }
 },
 "nbformat": 4,
 "nbformat_minor": 5
}
